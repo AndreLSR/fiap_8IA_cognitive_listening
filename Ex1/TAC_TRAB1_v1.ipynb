{
 "cells": [
  {
   "cell_type": "code",
   "execution_count": 1,
   "metadata": {},
   "outputs": [
    {
     "name": "stderr",
     "output_type": "stream",
     "text": [
      "[nltk_data] Downloading package punkt to\n",
      "[nltk_data]     /Users/arodrigues/nltk_data...\n",
      "[nltk_data]   Package punkt is already up-to-date!\n",
      "[nltk_data] Downloading package stopwords to\n",
      "[nltk_data]     /Users/arodrigues/nltk_data...\n",
      "[nltk_data]   Package stopwords is already up-to-date!\n"
     ]
    }
   ],
   "source": [
    "import os\n",
    "import csv\n",
    "import numpy as np\n",
    "import pandas as pd\n",
    "from pandas import Series, DataFrame\n",
    "import codecs\n",
    "import nltk\n",
    "import seaborn as sb\n",
    "nltk.download('punkt')\n",
    "nltk.download('stopwords')\n",
    "\n",
    "from sklearn.decomposition import LatentDirichletAllocation\n",
    "\n",
    "import matplotlib.pyplot as plt\n",
    "\n",
    "import warnings\n",
    "warnings.filterwarnings('ignore')"
   ]
  },
  {
   "cell_type": "code",
   "execution_count": 2,
   "metadata": {
    "jupyter": {
     "source_hidden": true
    }
   },
   "outputs": [],
   "source": [
    "# dirpath = '../AULA02_29012020/TM/'\n",
    "# output = '../AULA02_29012020/social_network.csv'\n",
    "\n",
    "# files = os.listdir(dirpath)\n",
    "\n",
    "# f = Series(files, index=range(len(files)))\n",
    "\n",
    "# df = DataFrame({'filename':f})\n",
    "# df['text'] = np.nan\n",
    "\n",
    "# i = 0\n",
    "# for filename in files:\n",
    "#     with open(dirpath+filename,'r') as f:\n",
    "#         r = f.read() \n",
    "# #         print(r)\n",
    "#         df['text'][i]=r\n",
    "#         i += 1\n",
    "#         f.close()\n",
    "# df.to_csv(output)\n",
    "\n",
    "# df = pd.read_csv(output)\n",
    "\n",
    "# count = df.text.str.split().str.len()\n",
    "# dropped = df[~(count>2)].copy()\n",
    "# dropped.index.tolist()\n",
    "# df.drop(dropped.index.tolist(), axis=0, inplace=True)\n",
    "# df.drop(columns=['Unnamed: 0'], inplace=True)\n",
    "\n",
    "# df"
   ]
  },
  {
   "cell_type": "code",
   "execution_count": 3,
   "metadata": {},
   "outputs": [
    {
     "data": {
      "text/html": [
       "<div>\n",
       "<style scoped>\n",
       "    .dataframe tbody tr th:only-of-type {\n",
       "        vertical-align: middle;\n",
       "    }\n",
       "\n",
       "    .dataframe tbody tr th {\n",
       "        vertical-align: top;\n",
       "    }\n",
       "\n",
       "    .dataframe thead th {\n",
       "        text-align: right;\n",
       "    }\n",
       "</style>\n",
       "<table border=\"1\" class=\"dataframe\">\n",
       "  <thead>\n",
       "    <tr style=\"text-align: right;\">\n",
       "      <th></th>\n",
       "      <th>filename</th>\n",
       "      <th>text</th>\n",
       "    </tr>\n",
       "  </thead>\n",
       "  <tbody>\n",
       "    <tr>\n",
       "      <th>0</th>\n",
       "      <td>Debora_2.txt</td>\n",
       "      <td>São você acredita que a rede social digital EL...</td>\n",
       "    </tr>\n",
       "    <tr>\n",
       "      <th>1</th>\n",
       "      <td>Debora_3.txt</td>\n",
       "      <td>De.Você acredita que as redes sociais digitais...</td>\n",
       "    </tr>\n",
       "    <tr>\n",
       "      <th>2</th>\n",
       "      <td>Paulo_Audio1_MP3.txt</td>\n",
       "      <td>Eu acredito que sim city e as medias sociais. ...</td>\n",
       "    </tr>\n",
       "    <tr>\n",
       "      <th>3</th>\n",
       "      <td>Alex04-MP3.txt</td>\n",
       "      <td>Eu acho que não necessariamente eu acho que el...</td>\n",
       "    </tr>\n",
       "    <tr>\n",
       "      <th>4</th>\n",
       "      <td>Debora_1.txt</td>\n",
       "      <td>O ano em que você acredita que as redes sociai...</td>\n",
       "    </tr>\n",
       "    <tr>\n",
       "      <th>5</th>\n",
       "      <td>audiomp3.txt</td>\n",
       "      <td>É ver que em que sim porque o extremismo na é ...</td>\n",
       "    </tr>\n",
       "    <tr>\n",
       "      <th>6</th>\n",
       "      <td>Paulo_Audio3_MP3.txt</td>\n",
       "      <td>De. Bom eu acho que as redes sociais ajudam si...</td>\n",
       "    </tr>\n",
       "    <tr>\n",
       "      <th>7</th>\n",
       "      <td>WhatsApp Ptt 2020-01-24 at 12.36.44_wav.txt</td>\n",
       "      <td>Acho que as sanções municiados por que elas pa...</td>\n",
       "    </tr>\n",
       "    <tr>\n",
       "      <th>8</th>\n",
       "      <td>WhatsApp Ptt 2020-01-24 at 22.04.57.mp3.txt</td>\n",
       "      <td>﻿É eu acredito que sim que ajudo sem a. A torn...</td>\n",
       "    </tr>\n",
       "    <tr>\n",
       "      <th>9</th>\n",
       "      <td>audio2_wav.txt</td>\n",
       "      <td>Pior. É a questão é você acredita que as redes...</td>\n",
       "    </tr>\n",
       "    <tr>\n",
       "      <th>10</th>\n",
       "      <td>audio3.1_mp3.txt</td>\n",
       "      <td>De ano. Ontem. A mídia lá vem notificando múlt...</td>\n",
       "    </tr>\n",
       "    <tr>\n",
       "      <th>11</th>\n",
       "      <td>Alex02-WAV.txt</td>\n",
       "      <td>Vamos é vamos lago ao de. Bons é uma que de é ...</td>\n",
       "    </tr>\n",
       "    <tr>\n",
       "      <th>12</th>\n",
       "      <td>WhatsApp Ptt 2020-01-24 at 12.36.44.mp3.txt</td>\n",
       "      <td>﻿Acho que as sanções municiados por que elas p...</td>\n",
       "    </tr>\n",
       "    <tr>\n",
       "      <th>13</th>\n",
       "      <td>William_2.txt</td>\n",
       "      <td>Com. Cara eu acha sim porque erro galera fica ...</td>\n",
       "    </tr>\n",
       "    <tr>\n",
       "      <th>14</th>\n",
       "      <td>Paulo_Audio2_WAV.txt</td>\n",
       "      <td>Eu acredito que sim as redes sociais podem aum...</td>\n",
       "    </tr>\n",
       "    <tr>\n",
       "      <th>15</th>\n",
       "      <td>audio05.txt</td>\n",
       "      <td>Acredito que as redes sociais digitais ajudam ...</td>\n",
       "    </tr>\n",
       "    <tr>\n",
       "      <th>16</th>\n",
       "      <td>rubens03.txt</td>\n",
       "      <td>Sim acredito que as ressocializar de tais ajud...</td>\n",
       "    </tr>\n",
       "    <tr>\n",
       "      <th>17</th>\n",
       "      <td>rubens02.txt</td>\n",
       "      <td>Sim eu acredito que as redes sociais de tais a...</td>\n",
       "    </tr>\n",
       "    <tr>\n",
       "      <th>18</th>\n",
       "      <td>audio04.txt</td>\n",
       "      <td>Ola vavá que vinham acho que há uma que aument...</td>\n",
       "    </tr>\n",
       "    <tr>\n",
       "      <th>19</th>\n",
       "      <td>William_3.txt</td>\n",
       "      <td>Dança sinhó acredita que as redes sociais hoje...</td>\n",
       "    </tr>\n",
       "    <tr>\n",
       "      <th>20</th>\n",
       "      <td>William_1.txt</td>\n",
       "      <td>O número de agentes sociais o mundo os usam al...</td>\n",
       "    </tr>\n",
       "    <tr>\n",
       "      <th>21</th>\n",
       "      <td>rubens01.txt</td>\n",
       "      <td>Eu acredito sim que as redes sociais digitais ...</td>\n",
       "    </tr>\n",
       "    <tr>\n",
       "      <th>22</th>\n",
       "      <td>audio3_mp3.txt</td>\n",
       "      <td>De ano. Ontem. A mídia lá vem notificando múlt...</td>\n",
       "    </tr>\n",
       "    <tr>\n",
       "      <th>23</th>\n",
       "      <td>Micael03.txt</td>\n",
       "      <td>﻿O indica então é n eu pensei bastante nesse u...</td>\n",
       "    </tr>\n",
       "    <tr>\n",
       "      <th>24</th>\n",
       "      <td>Favio_3.txt</td>\n",
       "      <td>Vamos lá é eu acredito que as rede sociais não...</td>\n",
       "    </tr>\n",
       "    <tr>\n",
       "      <th>25</th>\n",
       "      <td>audio03.txt</td>\n",
       "      <td>Eu assistia as posições extremistas sempre exi...</td>\n",
       "    </tr>\n",
       "    <tr>\n",
       "      <th>26</th>\n",
       "      <td>Alex03-MP3.txt</td>\n",
       "      <td>Olá boa tarde o surto gomes é psicólogo cognit...</td>\n",
       "    </tr>\n",
       "    <tr>\n",
       "      <th>27</th>\n",
       "      <td>audio02.txt</td>\n",
       "      <td>Acredito que sim uma vez que as posições extre...</td>\n",
       "    </tr>\n",
       "    <tr>\n",
       "      <th>28</th>\n",
       "      <td>Favio_2.txt</td>\n",
       "      <td>Eu entendo que as mídias sociais elas são há u...</td>\n",
       "    </tr>\n",
       "    <tr>\n",
       "      <th>29</th>\n",
       "      <td>Micael02.txt</td>\n",
       "      <td>﻿Olha eu acho que as redes sociais não têm dei...</td>\n",
       "    </tr>\n",
       "    <tr>\n",
       "      <th>30</th>\n",
       "      <td>JoséCruz_Audio01_mp3.txt</td>\n",
       "      <td>De. Bom eu acho que as redes sociais ajudam si...</td>\n",
       "    </tr>\n",
       "    <tr>\n",
       "      <th>31</th>\n",
       "      <td>david3 - wav.txt</td>\n",
       "      <td>﻿Bom a as redes sociais fomento sem estrelismo...</td>\n",
       "    </tr>\n",
       "    <tr>\n",
       "      <th>32</th>\n",
       "      <td>audio01.txt</td>\n",
       "      <td>Vão quando gente fala de internet a gente tem....</td>\n",
       "    </tr>\n",
       "    <tr>\n",
       "      <th>33</th>\n",
       "      <td>Favio_1.txt</td>\n",
       "      <td>Acho que as redes sociais vêm deixando as pess...</td>\n",
       "    </tr>\n",
       "    <tr>\n",
       "      <th>34</th>\n",
       "      <td>Micael01.txt</td>\n",
       "      <td>﻿Sem porque pulamos de um assunto para outros ...</td>\n",
       "    </tr>\n",
       "    <tr>\n",
       "      <th>35</th>\n",
       "      <td>Flavio_2.txt</td>\n",
       "      <td>Eu entendo que as mídias sociais elas são há u...</td>\n",
       "    </tr>\n",
       "    <tr>\n",
       "      <th>36</th>\n",
       "      <td>Paulo_3.txt</td>\n",
       "      <td>﻿Para se ótico extremismo então muito concessõ...</td>\n",
       "    </tr>\n",
       "    <tr>\n",
       "      <th>37</th>\n",
       "      <td>Paulo_2.txt</td>\n",
       "      <td>﻿Bom eu acho que as pessoas na internet elas f...</td>\n",
       "    </tr>\n",
       "    <tr>\n",
       "      <th>38</th>\n",
       "      <td>Alex01-MP3.txt</td>\n",
       "      <td>Com os eu acredito que isso dependa de duas co...</td>\n",
       "    </tr>\n",
       "    <tr>\n",
       "      <th>39</th>\n",
       "      <td>David 1.txt</td>\n",
       "      <td>Sim eu acredito que as redes sociais ajudam a ...</td>\n",
       "    </tr>\n",
       "    <tr>\n",
       "      <th>40</th>\n",
       "      <td>Flavio_3.txt</td>\n",
       "      <td>Vamos lá é eu acredito que as rede sociais não...</td>\n",
       "    </tr>\n",
       "    <tr>\n",
       "      <th>41</th>\n",
       "      <td>audiowav.txt</td>\n",
       "      <td>Concordo pois é há muitos anos. Alguns grupos ...</td>\n",
       "    </tr>\n",
       "    <tr>\n",
       "      <th>42</th>\n",
       "      <td>Flavio_1.txt</td>\n",
       "      <td>Acho que as redes sociais vêm deixando as pess...</td>\n",
       "    </tr>\n",
       "    <tr>\n",
       "      <th>43</th>\n",
       "      <td>Paulo_Audio4_MP3.txt</td>\n",
       "      <td>Eu acredito que já possuem um posicionamento p...</td>\n",
       "    </tr>\n",
       "    <tr>\n",
       "      <th>44</th>\n",
       "      <td>WhatsApp Ptt 2020-01-26 at 17.11.14_wav.txt</td>\n",
       "      <td>Eu acredito que as medições oficiais ajudam au...</td>\n",
       "    </tr>\n",
       "    <tr>\n",
       "      <th>45</th>\n",
       "      <td>Paulo_1.txt</td>\n",
       "      <td>﻿Bom acho que sim as que. Dês dos primórdios d...</td>\n",
       "    </tr>\n",
       "    <tr>\n",
       "      <th>46</th>\n",
       "      <td>audio1.1_mp3.txt</td>\n",
       "      <td>Como filiais extremismo. Como sempre fez fio m...</td>\n",
       "    </tr>\n",
       "    <tr>\n",
       "      <th>47</th>\n",
       "      <td>David 2.txt</td>\n",
       "      <td>Eu acho que as redes sociais não digo bem raçã...</td>\n",
       "    </tr>\n",
       "    <tr>\n",
       "      <th>48</th>\n",
       "      <td>WhatsApp Ptt 2020-01-26 at 17.11.14.mp3.txt</td>\n",
       "      <td>﻿Eu acredito que as medições oficiais ajudam a...</td>\n",
       "    </tr>\n",
       "    <tr>\n",
       "      <th>49</th>\n",
       "      <td>JoséCruz_Audio02_mp3.txt</td>\n",
       "      <td>Eu acredito que já possuem um posicionamento p...</td>\n",
       "    </tr>\n",
       "    <tr>\n",
       "      <th>50</th>\n",
       "      <td>audio2.1_wav.txt</td>\n",
       "      <td>Pior. É a questão é você acredita que as redes...</td>\n",
       "    </tr>\n",
       "    <tr>\n",
       "      <th>51</th>\n",
       "      <td>Breyner 01.txt</td>\n",
       "      <td>﻿Boa tarde tudo bem  A pasta do bem em relação...</td>\n",
       "    </tr>\n",
       "    <tr>\n",
       "      <th>52</th>\n",
       "      <td>audio1_mp3.txt</td>\n",
       "      <td>Como filiais extremismo. Como sempre fez fio m...</td>\n",
       "    </tr>\n",
       "    <tr>\n",
       "      <th>53</th>\n",
       "      <td>WhatsApp Ptt 2020-01-25 at 10.31.11.mp3.txt</td>\n",
       "      <td>﻿Eu acredito que sem a natureza das redes soci...</td>\n",
       "    </tr>\n",
       "  </tbody>\n",
       "</table>\n",
       "</div>"
      ],
      "text/plain": [
       "                                       filename  \\\n",
       "0                                  Debora_2.txt   \n",
       "1                                  Debora_3.txt   \n",
       "2                          Paulo_Audio1_MP3.txt   \n",
       "3                                Alex04-MP3.txt   \n",
       "4                                  Debora_1.txt   \n",
       "5                                  audiomp3.txt   \n",
       "6                          Paulo_Audio3_MP3.txt   \n",
       "7   WhatsApp Ptt 2020-01-24 at 12.36.44_wav.txt   \n",
       "8   WhatsApp Ptt 2020-01-24 at 22.04.57.mp3.txt   \n",
       "9                                audio2_wav.txt   \n",
       "10                             audio3.1_mp3.txt   \n",
       "11                               Alex02-WAV.txt   \n",
       "12  WhatsApp Ptt 2020-01-24 at 12.36.44.mp3.txt   \n",
       "13                                William_2.txt   \n",
       "14                         Paulo_Audio2_WAV.txt   \n",
       "15                                  audio05.txt   \n",
       "16                                 rubens03.txt   \n",
       "17                                 rubens02.txt   \n",
       "18                                  audio04.txt   \n",
       "19                                William_3.txt   \n",
       "20                                William_1.txt   \n",
       "21                                 rubens01.txt   \n",
       "22                               audio3_mp3.txt   \n",
       "23                                 Micael03.txt   \n",
       "24                                  Favio_3.txt   \n",
       "25                                  audio03.txt   \n",
       "26                               Alex03-MP3.txt   \n",
       "27                                  audio02.txt   \n",
       "28                                  Favio_2.txt   \n",
       "29                                 Micael02.txt   \n",
       "30                     JoséCruz_Audio01_mp3.txt   \n",
       "31                             david3 - wav.txt   \n",
       "32                                  audio01.txt   \n",
       "33                                  Favio_1.txt   \n",
       "34                                 Micael01.txt   \n",
       "35                                 Flavio_2.txt   \n",
       "36                                  Paulo_3.txt   \n",
       "37                                  Paulo_2.txt   \n",
       "38                               Alex01-MP3.txt   \n",
       "39                                  David 1.txt   \n",
       "40                                 Flavio_3.txt   \n",
       "41                                 audiowav.txt   \n",
       "42                                 Flavio_1.txt   \n",
       "43                         Paulo_Audio4_MP3.txt   \n",
       "44  WhatsApp Ptt 2020-01-26 at 17.11.14_wav.txt   \n",
       "45                                  Paulo_1.txt   \n",
       "46                             audio1.1_mp3.txt   \n",
       "47                                  David 2.txt   \n",
       "48  WhatsApp Ptt 2020-01-26 at 17.11.14.mp3.txt   \n",
       "49                     JoséCruz_Audio02_mp3.txt   \n",
       "50                             audio2.1_wav.txt   \n",
       "51                               Breyner 01.txt   \n",
       "52                               audio1_mp3.txt   \n",
       "53  WhatsApp Ptt 2020-01-25 at 10.31.11.mp3.txt   \n",
       "\n",
       "                                                 text  \n",
       "0   São você acredita que a rede social digital EL...  \n",
       "1   De.Você acredita que as redes sociais digitais...  \n",
       "2   Eu acredito que sim city e as medias sociais. ...  \n",
       "3   Eu acho que não necessariamente eu acho que el...  \n",
       "4   O ano em que você acredita que as redes sociai...  \n",
       "5   É ver que em que sim porque o extremismo na é ...  \n",
       "6   De. Bom eu acho que as redes sociais ajudam si...  \n",
       "7   Acho que as sanções municiados por que elas pa...  \n",
       "8   ﻿É eu acredito que sim que ajudo sem a. A torn...  \n",
       "9   Pior. É a questão é você acredita que as redes...  \n",
       "10  De ano. Ontem. A mídia lá vem notificando múlt...  \n",
       "11  Vamos é vamos lago ao de. Bons é uma que de é ...  \n",
       "12  ﻿Acho que as sanções municiados por que elas p...  \n",
       "13  Com. Cara eu acha sim porque erro galera fica ...  \n",
       "14  Eu acredito que sim as redes sociais podem aum...  \n",
       "15  Acredito que as redes sociais digitais ajudam ...  \n",
       "16  Sim acredito que as ressocializar de tais ajud...  \n",
       "17  Sim eu acredito que as redes sociais de tais a...  \n",
       "18  Ola vavá que vinham acho que há uma que aument...  \n",
       "19  Dança sinhó acredita que as redes sociais hoje...  \n",
       "20  O número de agentes sociais o mundo os usam al...  \n",
       "21  Eu acredito sim que as redes sociais digitais ...  \n",
       "22  De ano. Ontem. A mídia lá vem notificando múlt...  \n",
       "23  ﻿O indica então é n eu pensei bastante nesse u...  \n",
       "24  Vamos lá é eu acredito que as rede sociais não...  \n",
       "25  Eu assistia as posições extremistas sempre exi...  \n",
       "26  Olá boa tarde o surto gomes é psicólogo cognit...  \n",
       "27  Acredito que sim uma vez que as posições extre...  \n",
       "28  Eu entendo que as mídias sociais elas são há u...  \n",
       "29  ﻿Olha eu acho que as redes sociais não têm dei...  \n",
       "30  De. Bom eu acho que as redes sociais ajudam si...  \n",
       "31  ﻿Bom a as redes sociais fomento sem estrelismo...  \n",
       "32  Vão quando gente fala de internet a gente tem....  \n",
       "33  Acho que as redes sociais vêm deixando as pess...  \n",
       "34  ﻿Sem porque pulamos de um assunto para outros ...  \n",
       "35  Eu entendo que as mídias sociais elas são há u...  \n",
       "36  ﻿Para se ótico extremismo então muito concessõ...  \n",
       "37  ﻿Bom eu acho que as pessoas na internet elas f...  \n",
       "38  Com os eu acredito que isso dependa de duas co...  \n",
       "39  Sim eu acredito que as redes sociais ajudam a ...  \n",
       "40  Vamos lá é eu acredito que as rede sociais não...  \n",
       "41  Concordo pois é há muitos anos. Alguns grupos ...  \n",
       "42  Acho que as redes sociais vêm deixando as pess...  \n",
       "43  Eu acredito que já possuem um posicionamento p...  \n",
       "44  Eu acredito que as medições oficiais ajudam au...  \n",
       "45  ﻿Bom acho que sim as que. Dês dos primórdios d...  \n",
       "46  Como filiais extremismo. Como sempre fez fio m...  \n",
       "47  Eu acho que as redes sociais não digo bem raçã...  \n",
       "48  ﻿Eu acredito que as medições oficiais ajudam a...  \n",
       "49  Eu acredito que já possuem um posicionamento p...  \n",
       "50  Pior. É a questão é você acredita que as redes...  \n",
       "51  ﻿Boa tarde tudo bem  A pasta do bem em relação...  \n",
       "52  Como filiais extremismo. Como sempre fez fio m...  \n",
       "53  ﻿Eu acredito que sem a natureza das redes soci...  "
      ]
     },
     "execution_count": 3,
     "metadata": {},
     "output_type": "execute_result"
    }
   ],
   "source": [
    "dirpath = '../AULA02_29012020/TM/'\n",
    "output = '../AULA02_29012020/social_network.csv'\n",
    "\n",
    "files = [f for f in os.listdir(dirpath) if os.path.isfile(os.path.join(dirpath, f)) and f.endswith('.txt')]\n",
    "\n",
    "f = Series(files, index=range(len(files)))\n",
    "\n",
    "df = DataFrame({'filename':f})\n",
    "\n",
    "df['text'] = np.nan\n",
    "\n",
    "\n",
    "\n",
    "for i in range(len(df)):\n",
    "    with open(dirpath + df['filename'][i],'r') as f:\n",
    "        r = f.read() \n",
    "        df['text'][i]=r\n",
    "        f.close()\n",
    "        \n",
    "df.to_csv(output, index=False)\n",
    "\n",
    "df = pd.read_csv(output)\n",
    "\n",
    "df"
   ]
  },
  {
   "cell_type": "markdown",
   "metadata": {},
   "source": [
    "## 2) Checking for missing values\n",
    "**É fácil checar missing values usando método isnull() com o método sum(), o número retornado condiz com a quantidade True para o teste, ou seja, quantidade de valores nulos nas variaveis**"
   ]
  },
  {
   "cell_type": "code",
   "execution_count": 4,
   "metadata": {},
   "outputs": [
    {
     "data": {
      "text/plain": [
       "filename    0\n",
       "text        0\n",
       "dtype: int64"
      ]
     },
     "execution_count": 4,
     "metadata": {},
     "output_type": "execute_result"
    }
   ],
   "source": [
    "df.isnull().sum()"
   ]
  },
  {
   "cell_type": "code",
   "execution_count": 5,
   "metadata": {
    "colab": {
     "base_uri": "https://localhost:8080/",
     "height": 170
    },
    "colab_type": "code",
    "executionInfo": {
     "elapsed": 615,
     "status": "ok",
     "timestamp": 1575929614871,
     "user": {
      "displayName": "André Rodrigues",
      "photoUrl": "https://lh3.googleusercontent.com/a-/AAuE7mC4VcoLAlPEtIAJVPWTppZJ9S3ou2QH75zgDkJrgn0=s64",
      "userId": "01975921740661022202"
     },
     "user_tz": 180
    },
    "id": "oz0V7StwdK8s",
    "outputId": "f827162a-a36e-408e-867d-5c9b0f67c5c0"
   },
   "outputs": [
    {
     "name": "stdout",
     "output_type": "stream",
     "text": [
      "<class 'pandas.core.frame.DataFrame'>\n",
      "RangeIndex: 54 entries, 0 to 53\n",
      "Data columns (total 2 columns):\n",
      "filename    54 non-null object\n",
      "text        54 non-null object\n",
      "dtypes: object(2)\n",
      "memory usage: 992.0+ bytes\n"
     ]
    }
   ],
   "source": [
    "df.info()"
   ]
  },
  {
   "cell_type": "markdown",
   "metadata": {},
   "source": [
    "#### b) Passando todos caracteres para letra minúscula"
   ]
  },
  {
   "cell_type": "code",
   "execution_count": 6,
   "metadata": {},
   "outputs": [
    {
     "data": {
      "text/html": [
       "<div>\n",
       "<style scoped>\n",
       "    .dataframe tbody tr th:only-of-type {\n",
       "        vertical-align: middle;\n",
       "    }\n",
       "\n",
       "    .dataframe tbody tr th {\n",
       "        vertical-align: top;\n",
       "    }\n",
       "\n",
       "    .dataframe thead th {\n",
       "        text-align: right;\n",
       "    }\n",
       "</style>\n",
       "<table border=\"1\" class=\"dataframe\">\n",
       "  <thead>\n",
       "    <tr style=\"text-align: right;\">\n",
       "      <th></th>\n",
       "      <th>filename</th>\n",
       "      <th>text</th>\n",
       "    </tr>\n",
       "  </thead>\n",
       "  <tbody>\n",
       "    <tr>\n",
       "      <th>0</th>\n",
       "      <td>Debora_2.txt</td>\n",
       "      <td>são você acredita que a rede social digital el...</td>\n",
       "    </tr>\n",
       "    <tr>\n",
       "      <th>1</th>\n",
       "      <td>Debora_3.txt</td>\n",
       "      <td>de.você acredita que as redes sociais digitais...</td>\n",
       "    </tr>\n",
       "    <tr>\n",
       "      <th>2</th>\n",
       "      <td>Paulo_Audio1_MP3.txt</td>\n",
       "      <td>eu acredito que sim city e as medias sociais. ...</td>\n",
       "    </tr>\n",
       "    <tr>\n",
       "      <th>3</th>\n",
       "      <td>Alex04-MP3.txt</td>\n",
       "      <td>eu acho que não necessariamente eu acho que el...</td>\n",
       "    </tr>\n",
       "    <tr>\n",
       "      <th>4</th>\n",
       "      <td>Debora_1.txt</td>\n",
       "      <td>o ano em que você acredita que as redes sociai...</td>\n",
       "    </tr>\n",
       "  </tbody>\n",
       "</table>\n",
       "</div>"
      ],
      "text/plain": [
       "               filename                                               text\n",
       "0          Debora_2.txt  são você acredita que a rede social digital el...\n",
       "1          Debora_3.txt  de.você acredita que as redes sociais digitais...\n",
       "2  Paulo_Audio1_MP3.txt  eu acredito que sim city e as medias sociais. ...\n",
       "3        Alex04-MP3.txt  eu acho que não necessariamente eu acho que el...\n",
       "4          Debora_1.txt  o ano em que você acredita que as redes sociai..."
      ]
     },
     "execution_count": 6,
     "metadata": {},
     "output_type": "execute_result"
    }
   ],
   "source": [
    "df['text'] = df.text.apply(lambda texto: texto.lower())\n",
    "df.head()"
   ]
  },
  {
   "cell_type": "markdown",
   "metadata": {},
   "source": [
    "## 3)Aplicando NLP"
   ]
  },
  {
   "cell_type": "markdown",
   "metadata": {
    "colab_type": "text",
    "id": "zhTMo3h0oFA7"
   },
   "source": [
    "### Mostrar as 10 palavras que mais ocorrem antes de eliminar as stop words"
   ]
  },
  {
   "cell_type": "code",
   "execution_count": 7,
   "metadata": {},
   "outputs": [],
   "source": [
    "from collections import Counter\n",
    "c = Counter()"
   ]
  },
  {
   "cell_type": "code",
   "execution_count": 8,
   "metadata": {
    "colab": {
     "base_uri": "https://localhost:8080/",
     "height": 221
    },
    "colab_type": "code",
    "executionInfo": {
     "elapsed": 830,
     "status": "ok",
     "timestamp": 1572486342789,
     "user": {
      "displayName": "André Rodrigues",
      "photoUrl": "https://lh3.googleusercontent.com/a-/AAuE7mC4VcoLAlPEtIAJVPWTppZJ9S3ou2QH75zgDkJrgn0=s64",
      "userId": "01975921740661022202"
     },
     "user_tz": 180
    },
    "id": "vb9ZphnGLBqf",
    "outputId": "85a24439-c0d7-4e44-aada-1b10c75cf3e4"
   },
   "outputs": [
    {
     "data": {
      "text/plain": [
       "0     [são, você, acredita, que, a, rede, social, di...\n",
       "1     [de.você, acredita, que, as, redes, sociais, d...\n",
       "2     [eu, acredito, que, sim, city, e, as, medias, ...\n",
       "3     [eu, acho, que, não, necessariamente, eu, acho...\n",
       "4     [o, ano, em, que, você, acredita, que, as, red...\n",
       "5     [é, ver, que, em, que, sim, porque, o, extremi...\n",
       "6     [de., bom, eu, acho, que, as, redes, sociais, ...\n",
       "7     [acho, que, as, sanções, municiados, por, que,...\n",
       "8     [﻿é, eu, acredito, que, sim, que, ajudo, sem, ...\n",
       "9     [pior., é, a, questão, é, você, acredita, que,...\n",
       "10    [de, ano., ontem., a, mídia, lá, vem, notifica...\n",
       "11    [vamos, é, vamos, lago, ao, de., bons, é, uma,...\n",
       "12    [﻿acho, que, as, sanções, municiados, por, que...\n",
       "13    [com., cara, eu, acha, sim, porque, erro, gale...\n",
       "14    [eu, acredito, que, sim, as, redes, sociais, p...\n",
       "15    [acredito, que, as, redes, sociais, digitais, ...\n",
       "16    [sim, acredito, que, as, ressocializar, de, ta...\n",
       "17    [sim, eu, acredito, que, as, redes, sociais, d...\n",
       "18    [ola, vavá, que, vinham, acho, que, há, uma, q...\n",
       "19    [dança, sinhó, acredita, que, as, redes, socia...\n",
       "20    [o, número, de, agentes, sociais, o, mundo, os...\n",
       "21    [eu, acredito, sim, que, as, redes, sociais, d...\n",
       "22    [de, ano., ontem., a, mídia, lá, vem, notifica...\n",
       "23    [﻿o, indica, então, é, n, eu, pensei, bastante...\n",
       "24    [vamos, lá, é, eu, acredito, que, as, rede, so...\n",
       "25    [eu, assistia, as, posições, extremistas, semp...\n",
       "26    [olá, boa, tarde, o, surto, gomes, é, psicólog...\n",
       "27    [acredito, que, sim, uma, vez, que, as, posiçõ...\n",
       "28    [eu, entendo, que, as, mídias, sociais, elas, ...\n",
       "29    [﻿olha, eu, acho, que, as, redes, sociais, não...\n",
       "30    [de., bom, eu, acho, que, as, redes, sociais, ...\n",
       "31    [﻿bom, a, as, redes, sociais, fomento, sem, es...\n",
       "32    [vão, quando, gente, fala, de, internet, a, ge...\n",
       "33    [acho, que, as, redes, sociais, vêm, deixando,...\n",
       "34    [﻿sem, porque, pulamos, de, um, assunto, para,...\n",
       "35    [eu, entendo, que, as, mídias, sociais, elas, ...\n",
       "36    [﻿para, se, ótico, extremismo, então, muito, c...\n",
       "37    [﻿bom, eu, acho, que, as, pessoas, na, interne...\n",
       "38    [com, os, eu, acredito, que, isso, dependa, de...\n",
       "39    [sim, eu, acredito, que, as, redes, sociais, a...\n",
       "40    [vamos, lá, é, eu, acredito, que, as, rede, so...\n",
       "41    [concordo, pois, é, há, muitos, anos., alguns,...\n",
       "42    [acho, que, as, redes, sociais, vêm, deixando,...\n",
       "43    [eu, acredito, que, já, possuem, um, posiciona...\n",
       "44    [eu, acredito, que, as, medições, oficiais, aj...\n",
       "45    [﻿bom, acho, que, sim, as, que. dês, dos, prim...\n",
       "46    [como, filiais, extremismo., como, sempre, fez...\n",
       "47    [eu, acho, que, as, redes, sociais, não, digo,...\n",
       "48    [﻿eu, acredito, que, as, medições, oficiais, a...\n",
       "49    [eu, acredito, que, já, possuem, um, posiciona...\n",
       "50    [pior., é, a, questão, é, você, acredita, que,...\n",
       "51    [﻿boa, tarde, tudo, bem, , a, pasta, do, bem, ...\n",
       "52    [como, filiais, extremismo., como, sempre, fez...\n",
       "53    [﻿eu, acredito, que, sem, a, natureza, das, re...\n",
       "Name: text, dtype: object"
      ]
     },
     "execution_count": 8,
     "metadata": {},
     "output_type": "execute_result"
    }
   ],
   "source": [
    "df.text.str.lower().str.split(\" \")"
   ]
  },
  {
   "cell_type": "code",
   "execution_count": 9,
   "metadata": {},
   "outputs": [
    {
     "data": {
      "text/plain": [
       "filename    0\n",
       "text        0\n",
       "dtype: int64"
      ]
     },
     "execution_count": 9,
     "metadata": {},
     "output_type": "execute_result"
    }
   ],
   "source": [
    "df.isna().sum()"
   ]
  },
  {
   "cell_type": "code",
   "execution_count": 10,
   "metadata": {
    "colab": {
     "base_uri": "https://localhost:8080/",
     "height": 187
    },
    "colab_type": "code",
    "executionInfo": {
     "elapsed": 1477,
     "status": "ok",
     "timestamp": 1572486346124,
     "user": {
      "displayName": "André Rodrigues",
      "photoUrl": "https://lh3.googleusercontent.com/a-/AAuE7mC4VcoLAlPEtIAJVPWTppZJ9S3ou2QH75zgDkJrgn0=s64",
      "userId": "01975921740661022202"
     },
     "user_tz": 180
    },
    "id": "NjbB9gELLKt1",
    "outputId": "f03f3ecb-b77d-4d9e-d2ae-b09e8cde42cb"
   },
   "outputs": [
    {
     "data": {
      "text/plain": [
       "[('que', 429),\n",
       " ('de', 319),\n",
       " ('a', 295),\n",
       " ('é', 270),\n",
       " ('e', 233),\n",
       " ('o', 165),\n",
       " ('as', 158),\n",
       " ('não', 133),\n",
       " ('um', 127),\n",
       " ('mais', 116)]"
      ]
     },
     "execution_count": 10,
     "metadata": {},
     "output_type": "execute_result"
    }
   ],
   "source": [
    "df.text.str.lower().str.split(\" \").apply(c.update)\n",
    "c.most_common(10)"
   ]
  },
  {
   "cell_type": "markdown",
   "metadata": {
    "colab_type": "text",
    "id": "HFw7pB_-uVZX"
   },
   "source": [
    "### Nuvem de palavras antes do stop word"
   ]
  },
  {
   "cell_type": "code",
   "execution_count": 11,
   "metadata": {
    "colab": {
     "base_uri": "https://localhost:8080/",
     "height": 223
    },
    "colab_type": "code",
    "id": "npyDF0IGs8RG",
    "outputId": "3141e288-fadb-48d8-e8d4-828db06b0715"
   },
   "outputs": [
    {
     "data": {
      "image/png": "[encoded data removed]",
      "text/plain": [
       "<Figure size 288x288 with 1 Axes>"
      ]
     },
     "metadata": {},
     "output_type": "display_data"
    }
   ],
   "source": [
    "try:\n",
    "    from wordcloud import WordCloud\n",
    "except:\n",
    "    !pip install wordcloud\n",
    "    \n",
    "pos_words = ''\n",
    "\n",
    "for val in df.text:\n",
    "    text = val.lower()\n",
    "    for words in text:\n",
    "        pos_words = pos_words + words\n",
    "        \n",
    "# Generate a word cloud image\n",
    "pos_wordcloud = WordCloud(width=600, height=400).generate(pos_words)\n",
    "\n",
    "#Livro Word cloud\n",
    "plt.figure( figsize=(4,4), facecolor='k')\n",
    "plt.imshow(pos_wordcloud)\n",
    "plt.axis(\"off\")\n",
    "plt.tight_layout(pad=0)\n",
    "plt.show()"
   ]
  },
  {
   "cell_type": "markdown",
   "metadata": {},
   "source": [
    "### Stop Words"
   ]
  },
  {
   "cell_type": "code",
   "execution_count": 12,
   "metadata": {
    "colab": {
     "base_uri": "https://localhost:8080/",
     "height": 68
    },
    "colab_type": "code",
    "id": "rAz1ZRXwtag-",
    "outputId": "709c13c8-757d-4d40-8309-1d738bddf1cb"
   },
   "outputs": [],
   "source": [
    "stopwords = nltk.corpus.stopwords.words('portuguese')\n",
    "# stopwords"
   ]
  },
  {
   "cell_type": "code",
   "execution_count": 13,
   "metadata": {},
   "outputs": [
    {
     "data": {
      "text/html": [
       "<div>\n",
       "<style scoped>\n",
       "    .dataframe tbody tr th:only-of-type {\n",
       "        vertical-align: middle;\n",
       "    }\n",
       "\n",
       "    .dataframe tbody tr th {\n",
       "        vertical-align: top;\n",
       "    }\n",
       "\n",
       "    .dataframe thead th {\n",
       "        text-align: right;\n",
       "    }\n",
       "</style>\n",
       "<table border=\"1\" class=\"dataframe\">\n",
       "  <thead>\n",
       "    <tr style=\"text-align: right;\">\n",
       "      <th></th>\n",
       "      <th>filename</th>\n",
       "      <th>text</th>\n",
       "      <th>stop</th>\n",
       "    </tr>\n",
       "  </thead>\n",
       "  <tbody>\n",
       "    <tr>\n",
       "      <th>0</th>\n",
       "      <td>Debora_2.txt</td>\n",
       "      <td>são você acredita que a rede social digital el...</td>\n",
       "      <td>acredita rede social digital ajuda aumentar po...</td>\n",
       "    </tr>\n",
       "    <tr>\n",
       "      <th>1</th>\n",
       "      <td>Debora_3.txt</td>\n",
       "      <td>de.você acredita que as redes sociais digitais...</td>\n",
       "      <td>de.você acredita redes sociais digitais podem ...</td>\n",
       "    </tr>\n",
       "    <tr>\n",
       "      <th>2</th>\n",
       "      <td>Paulo_Audio1_MP3.txt</td>\n",
       "      <td>eu acredito que sim city e as medias sociais. ...</td>\n",
       "      <td>acredito sim city medias sociais. certeza favo...</td>\n",
       "    </tr>\n",
       "    <tr>\n",
       "      <th>3</th>\n",
       "      <td>Alex04-MP3.txt</td>\n",
       "      <td>eu acho que não necessariamente eu acho que el...</td>\n",
       "      <td>acho necessariamente acho ele. fato ter exposi...</td>\n",
       "    </tr>\n",
       "    <tr>\n",
       "      <th>4</th>\n",
       "      <td>Debora_1.txt</td>\n",
       "      <td>o ano em que você acredita que as redes sociai...</td>\n",
       "      <td>ano acredita redes sociais digitais podem aume...</td>\n",
       "    </tr>\n",
       "  </tbody>\n",
       "</table>\n",
       "</div>"
      ],
      "text/plain": [
       "               filename                                               text  \\\n",
       "0          Debora_2.txt  são você acredita que a rede social digital el...   \n",
       "1          Debora_3.txt  de.você acredita que as redes sociais digitais...   \n",
       "2  Paulo_Audio1_MP3.txt  eu acredito que sim city e as medias sociais. ...   \n",
       "3        Alex04-MP3.txt  eu acho que não necessariamente eu acho que el...   \n",
       "4          Debora_1.txt  o ano em que você acredita que as redes sociai...   \n",
       "\n",
       "                                                stop  \n",
       "0  acredita rede social digital ajuda aumentar po...  \n",
       "1  de.você acredita redes sociais digitais podem ...  \n",
       "2  acredito sim city medias sociais. certeza favo...  \n",
       "3  acho necessariamente acho ele. fato ter exposi...  \n",
       "4  ano acredita redes sociais digitais podem aume...  "
      ]
     },
     "execution_count": 13,
     "metadata": {},
     "output_type": "execute_result"
    }
   ],
   "source": [
    "df['stop'] = df['text'].apply(lambda x: ' '.join([word for word in x.split() if word not in (stopwords)]))\n",
    "df.head()"
   ]
  },
  {
   "cell_type": "code",
   "execution_count": 14,
   "metadata": {},
   "outputs": [
    {
     "data": {
      "text/html": [
       "<div>\n",
       "<style scoped>\n",
       "    .dataframe tbody tr th:only-of-type {\n",
       "        vertical-align: middle;\n",
       "    }\n",
       "\n",
       "    .dataframe tbody tr th {\n",
       "        vertical-align: top;\n",
       "    }\n",
       "\n",
       "    .dataframe thead th {\n",
       "        text-align: right;\n",
       "    }\n",
       "</style>\n",
       "<table border=\"1\" class=\"dataframe\">\n",
       "  <thead>\n",
       "    <tr style=\"text-align: right;\">\n",
       "      <th></th>\n",
       "      <th>filename</th>\n",
       "      <th>text</th>\n",
       "      <th>stop</th>\n",
       "    </tr>\n",
       "  </thead>\n",
       "  <tbody>\n",
       "    <tr>\n",
       "      <th>0</th>\n",
       "      <td>Debora_2.txt</td>\n",
       "      <td>são você acredita que a rede social digital el...</td>\n",
       "      <td>acredita rede social digital ajuda aumentar po...</td>\n",
       "    </tr>\n",
       "    <tr>\n",
       "      <th>1</th>\n",
       "      <td>Debora_3.txt</td>\n",
       "      <td>de.você acredita que as redes sociais digitais...</td>\n",
       "      <td>devocê acredita redes sociais digitais podem a...</td>\n",
       "    </tr>\n",
       "    <tr>\n",
       "      <th>2</th>\n",
       "      <td>Paulo_Audio1_MP3.txt</td>\n",
       "      <td>eu acredito que sim city e as medias sociais. ...</td>\n",
       "      <td>acredito sim city medias sociais certeza favor...</td>\n",
       "    </tr>\n",
       "    <tr>\n",
       "      <th>3</th>\n",
       "      <td>Alex04-MP3.txt</td>\n",
       "      <td>eu acho que não necessariamente eu acho que el...</td>\n",
       "      <td>acho necessariamente acho ele fato ter exposiç...</td>\n",
       "    </tr>\n",
       "    <tr>\n",
       "      <th>4</th>\n",
       "      <td>Debora_1.txt</td>\n",
       "      <td>o ano em que você acredita que as redes sociai...</td>\n",
       "      <td>ano acredita redes sociais digitais podem aume...</td>\n",
       "    </tr>\n",
       "  </tbody>\n",
       "</table>\n",
       "</div>"
      ],
      "text/plain": [
       "               filename                                               text  \\\n",
       "0          Debora_2.txt  são você acredita que a rede social digital el...   \n",
       "1          Debora_3.txt  de.você acredita que as redes sociais digitais...   \n",
       "2  Paulo_Audio1_MP3.txt  eu acredito que sim city e as medias sociais. ...   \n",
       "3        Alex04-MP3.txt  eu acho que não necessariamente eu acho que el...   \n",
       "4          Debora_1.txt  o ano em que você acredita que as redes sociai...   \n",
       "\n",
       "                                                stop  \n",
       "0  acredita rede social digital ajuda aumentar po...  \n",
       "1  devocê acredita redes sociais digitais podem a...  \n",
       "2  acredito sim city medias sociais certeza favor...  \n",
       "3  acho necessariamente acho ele fato ter exposiç...  \n",
       "4  ano acredita redes sociais digitais podem aume...  "
      ]
     },
     "execution_count": 14,
     "metadata": {},
     "output_type": "execute_result"
    }
   ],
   "source": [
    "import string\n",
    "\n",
    "trans_table = {ord(x): None for x in string.punctuation + string.digits}    \n",
    "\n",
    "def tokenize(text):\n",
    "        # Remover pontuação e dígitos de qualquer palavra com pelo menos dois caracteres. \n",
    "        tokens = [word for word in nltk.word_tokenize(text.translate(trans_table), language=\"portuguese\") if len(word) > 1] #if len(word) > 1 \n",
    "        tokens = \" \".join(tokens)\n",
    "        return tokens\n",
    "    \n",
    "df['stop'] = df['stop'].apply(lambda x: (tokenize(x)))\n",
    "df.head()"
   ]
  },
  {
   "cell_type": "code",
   "execution_count": 15,
   "metadata": {},
   "outputs": [
    {
     "data": {
      "text/plain": [
       "filename    0\n",
       "text        0\n",
       "stop        0\n",
       "dtype: int64"
      ]
     },
     "execution_count": 15,
     "metadata": {},
     "output_type": "execute_result"
    }
   ],
   "source": [
    "df.isna().sum()"
   ]
  },
  {
   "cell_type": "markdown",
   "metadata": {
    "colab_type": "text",
    "id": "zhTMo3h0oFA7"
   },
   "source": [
    "### Mostrar as 10 palavras que mais ocorrem depois de eliminar as stop words"
   ]
  },
  {
   "cell_type": "code",
   "execution_count": 16,
   "metadata": {},
   "outputs": [],
   "source": [
    "from collections import Counter\n",
    "c = Counter()"
   ]
  },
  {
   "cell_type": "code",
   "execution_count": 17,
   "metadata": {
    "colab": {
     "base_uri": "https://localhost:8080/",
     "height": 221
    },
    "colab_type": "code",
    "executionInfo": {
     "elapsed": 830,
     "status": "ok",
     "timestamp": 1572486342789,
     "user": {
      "displayName": "André Rodrigues",
      "photoUrl": "https://lh3.googleusercontent.com/a-/AAuE7mC4VcoLAlPEtIAJVPWTppZJ9S3ou2QH75zgDkJrgn0=s64",
      "userId": "01975921740661022202"
     },
     "user_tz": 180
    },
    "id": "vb9ZphnGLBqf",
    "outputId": "85a24439-c0d7-4e44-aada-1b10c75cf3e4"
   },
   "outputs": [
    {
     "data": {
      "text/plain": [
       "0     [acredita, rede, social, digital, ajuda, aumen...\n",
       "1     [devocê, acredita, redes, sociais, digitais, p...\n",
       "2     [acredito, sim, city, medias, sociais, certeza...\n",
       "3     [acho, necessariamente, acho, ele, fato, ter, ...\n",
       "4     [ano, acredita, redes, sociais, digitais, pode...\n",
       "5     [ver, sim, porque, extremismo, vem, longa, dat...\n",
       "6     [de, bom, acho, redes, sociais, ajudam, sim, a...\n",
       "7     [acho, sanções, municiados, passam, tempo, red...\n",
       "8     [﻿é, acredito, sim, ajudo, tornara, opiniões, ...\n",
       "9     [pior, questão, acredita, redes, sociais, digi...\n",
       "10    [ano, ontem, mídia, lá, vem, notificando, múlt...\n",
       "11    [vamos, vamos, lago, de, bons, dissesse, podem...\n",
       "12    [﻿acho, sanções, municiados, passam, tempo, re...\n",
       "13    [com, cara, acha, sim, porque, erro, galera, f...\n",
       "14    [acredito, sim, redes, sociais, podem, aumenta...\n",
       "15    [acredito, redes, sociais, digitais, ajudam, a...\n",
       "16    [sim, acredito, ressocializar, tais, ajudem, a...\n",
       "17    [sim, acredito, redes, sociais, tais, ajudou, ...\n",
       "18    [ola, vavá, vinham, acho, aumenta, fusões, mis...\n",
       "19    [dança, sinhó, acredita, redes, sociais, hoje,...\n",
       "20    [número, agentes, sociais, mundo, usam, algori...\n",
       "21    [acredito, sim, redes, sociais, digitais, aume...\n",
       "22    [ano, ontem, mídia, lá, vem, notificando, múlt...\n",
       "23    [﻿o, indica, então, pensei, bastante, nesse, t...\n",
       "24    [vamos, lá, acredito, rede, sociais, deixam, p...\n",
       "25    [assistia, posições, extremistas, sempre, exis...\n",
       "26    [olá, boa, tarde, surto, gomes, psicólogo, cog...\n",
       "27    [acredito, sim, vez, posições, extremistas, oc...\n",
       "28    [entendo, mídias, sociais, meio, extremismo, m...\n",
       "29    [﻿olha, acho, redes, sociais, têm, deixado, pe...\n",
       "30    [de, bom, acho, redes, sociais, ajudam, sim, a...\n",
       "31    [﻿bom, redes, sociais, fomento, estrelismo, op...\n",
       "32    [vão, gente, fala, internet, gente, tem, assun...\n",
       "33    [acho, redes, sociais, vêm, deixando, pessoas,...\n",
       "34    [﻿sem, porque, pulamos, assunto, outros, apres...\n",
       "35    [entendo, mídias, sociais, meio, extremismo, m...\n",
       "36    [﻿para, ótico, extremismo, então, concessões, ...\n",
       "37    [﻿bom, acho, pessoas, internet, ficam, extremi...\n",
       "38    [acredito, dependa, duas, coisas, basicamente,...\n",
       "39    [sim, acredito, redes, sociais, ajudam, realiz...\n",
       "40    [vamos, lá, acredito, rede, sociais, deixam, p...\n",
       "41    [concordo, pois, muitos, anos, alguns, grupos,...\n",
       "42    [acho, redes, sociais, vêm, deixando, pessoas,...\n",
       "43    [acredito, possuem, posicionamento, político, ...\n",
       "44    [acredito, medições, oficiais, ajudam, aumenta...\n",
       "45    [﻿bom, acho, sim, que, dês, primórdios, intern...\n",
       "46    [filiais, extremismo, sempre, fez, fio, menos,...\n",
       "47    [acho, redes, sociais, digo, bem, ração, fomen...\n",
       "48    [﻿eu, acredito, medições, oficiais, ajudam, au...\n",
       "49    [acredito, possuem, posicionamento, político, ...\n",
       "50    [pior, questão, acredita, redes, sociais, digi...\n",
       "51    [﻿boa, tarde, tudo, bem, pasta, bem, relação, ...\n",
       "52    [filiais, extremismo, sempre, fez, fio, menos,...\n",
       "53    [﻿eu, acredito, natureza, redes, sociais, cone...\n",
       "Name: stop, dtype: object"
      ]
     },
     "execution_count": 17,
     "metadata": {},
     "output_type": "execute_result"
    }
   ],
   "source": [
    "df.stop.str.lower().str.split(\" \")"
   ]
  },
  {
   "cell_type": "code",
   "execution_count": 18,
   "metadata": {},
   "outputs": [
    {
     "data": {
      "text/plain": [
       "0    são você acredita que a rede social digital el...\n",
       "1    de.você acredita que as redes sociais digitais...\n",
       "2    eu acredito que sim city e as medias sociais. ...\n",
       "3    eu acho que não necessariamente eu acho que el...\n",
       "4    o ano em que você acredita que as redes sociai...\n",
       "5    é ver que em que sim porque o extremismo na é ...\n",
       "6    de. bom eu acho que as redes sociais ajudam si...\n",
       "7    acho que as sanções municiados por que elas pa...\n",
       "8    ﻿é eu acredito que sim que ajudo sem a. a torn...\n",
       "9    pior. é a questão é você acredita que as redes...\n",
       "Name: text, dtype: object"
      ]
     },
     "execution_count": 18,
     "metadata": {},
     "output_type": "execute_result"
    }
   ],
   "source": [
    "df.text.head(10)"
   ]
  },
  {
   "cell_type": "code",
   "execution_count": 19,
   "metadata": {
    "colab": {
     "base_uri": "https://localhost:8080/",
     "height": 187
    },
    "colab_type": "code",
    "executionInfo": {
     "elapsed": 1477,
     "status": "ok",
     "timestamp": 1572486346124,
     "user": {
      "displayName": "André Rodrigues",
      "photoUrl": "https://lh3.googleusercontent.com/a-/AAuE7mC4VcoLAlPEtIAJVPWTppZJ9S3ou2QH75zgDkJrgn0=s64",
      "userId": "01975921740661022202"
     },
     "user_tz": 180
    },
    "id": "NjbB9gELLKt1",
    "outputId": "f03f3ecb-b77d-4d9e-d2ae-b09e8cde42cb"
   },
   "outputs": [
    {
     "data": {
      "text/plain": [
       "[('pessoas', 114),\n",
       " ('sociais', 79),\n",
       " ('extremistas', 64),\n",
       " ('redes', 54),\n",
       " ('então', 48),\n",
       " ('posições', 45),\n",
       " ('opinião', 38),\n",
       " ('ser', 38),\n",
       " ('vai', 37),\n",
       " ('acredito', 32)]"
      ]
     },
     "execution_count": 19,
     "metadata": {},
     "output_type": "execute_result"
    }
   ],
   "source": [
    "df.stop.str.lower().str.split(\" \").apply(c.update)\n",
    "c.most_common(10)"
   ]
  },
  {
   "cell_type": "markdown",
   "metadata": {
    "colab_type": "text",
    "id": "HFw7pB_-uVZX"
   },
   "source": [
    "## Nuvem de palavras com Stop Words aplicado"
   ]
  },
  {
   "cell_type": "code",
   "execution_count": 20,
   "metadata": {
    "colab": {
     "base_uri": "https://localhost:8080/",
     "height": 223
    },
    "colab_type": "code",
    "id": "npyDF0IGs8RG",
    "outputId": "3141e288-fadb-48d8-e8d4-828db06b0715"
   },
   "outputs": [
    {
     "data": {
      "image/png": "[encoded data removed]",
      "text/plain": [
       "<Figure size 288x288 with 1 Axes>"
      ]
     },
     "metadata": {},
     "output_type": "display_data"
    }
   ],
   "source": [
    "import nltk\n",
    "import matplotlib.pyplot as plt\n",
    "\n",
    "try:\n",
    "    from wordcloud import WordCloud\n",
    "except:\n",
    "    !pip install wordcloud\n",
    "    \n",
    "pos_words = ''\n",
    "\n",
    "for val in df.stop:\n",
    "    text = val.lower()\n",
    "    for words in text:\n",
    "        pos_words = pos_words + words\n",
    "        \n",
    "# Generate a word cloud image\n",
    "pos_wordcloud = WordCloud(width=600, height=400).generate(pos_words)\n",
    "\n",
    "#Livro Word cloud\n",
    "plt.figure( figsize=(4,4), facecolor='k')\n",
    "plt.imshow(pos_wordcloud)\n",
    "plt.axis(\"off\")\n",
    "plt.tight_layout(pad=0)\n",
    "plt.show()"
   ]
  }
 ],
 "metadata": {
  "kernelspec": {
   "display_name": "Python 3",
   "language": "python",
   "name": "python3"
  },
  "language_info": {
   "codemirror_mode": {
    "name": "ipython",
    "version": 3
   },
   "file_extension": ".py",
   "mimetype": "text/x-python",
   "name": "python",
   "nbconvert_exporter": "python",
   "pygments_lexer": "ipython3",
   "version": "3.7.5"
  }
 },
 "nbformat": 4,
 "nbformat_minor": 4
}
